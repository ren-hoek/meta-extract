{
 "cells": [
  {
   "cell_type": "code",
   "execution_count": null,
   "metadata": {},
   "outputs": [],
   "source": [
    "from pdf2image import convert_from_path"
   ]
  },
  {
   "cell_type": "code",
   "execution_count": null,
   "metadata": {},
   "outputs": [],
   "source": [
    "import io\n",
    "import PIL\n",
    "import gridfs\n",
    "import pymongo as py\n",
    "from ipywidgets import interact\n",
    "import IPython.display as ipy\n",
    "\n",
    "\n",
    "def browse_pages(d):\n",
    "    n = d.n_frames\n",
    "    def view_image(i):\n",
    "        d.seek(i)\n",
    "        img_bytes = io.BytesIO()\n",
    "        d.save(img_bytes, format='png')\n",
    "        img_bytes = img_bytes.getvalue()\n",
    "        ipy.display(ipy.Image(img_bytes))\n",
    "    interact(view_image, i=(0,n-1))\n",
    "\n",
    "    \n",
    "def get_pages(c, d, u):\n",
    "    client = py.MongoClient(c)\n",
    "    db = client[d]\n",
    "    fs = gridfs.GridFS(db)\n",
    "    tiff_bytes = io.BytesIO()\n",
    "\n",
    "    doc = db.aug_meta.find_one({\"uuid\": u})\n",
    "    a = PIL.Image.open(fs.get(doc['page_images'][0]))\n",
    "    imgs = [PIL.Image.open(fs.get(x)) for x in doc['page_images'][1:]]\n",
    "    a.save('test.tiff', save_all=True, append_images=imgs)\n",
    "    p = PIL.Image.open('test.tiff')\n",
    "    return p"
   ]
  },
  {
   "cell_type": "code",
   "execution_count": null,
   "metadata": {},
   "outputs": [],
   "source": [
    "docs = dict()\n",
    "#content_type = \"application/msword\"\n",
    "#content_type = \"application/vnd.ms-powerpoint\"\n",
    "content_type = \"application/vnd.ms-excel\"\n",
    "\n",
    "for i, uuid in enumerate(\n",
    "    py.MongoClient('mongo')['docs']['aug_meta'].find({\"$and\": [\n",
    "        {\"Content-Type.Content\": content_type},\n",
    "        {\"raw_file\": {\"$exists\": True}}]}, {'_id': False, 'uuid': True})):\n",
    "    docs[i] = uuid['uuid']\n",
    "len(docs)"
   ]
  },
  {
   "cell_type": "code",
   "execution_count": null,
   "metadata": {},
   "outputs": [],
   "source": [
    "h = get_pages(\"mongo\", \"docs\", docs[52])\n",
    "browse_pages(h)"
   ]
  }
 ],
 "metadata": {
  "kernelspec": {
   "display_name": "Python 3",
   "language": "python",
   "name": "python3"
  },
  "language_info": {
   "codemirror_mode": {
    "name": "ipython",
    "version": 3
   },
   "file_extension": ".py",
   "mimetype": "text/x-python",
   "name": "python",
   "nbconvert_exporter": "python",
   "pygments_lexer": "ipython3",
   "version": "3.5.2"
  }
 },
 "nbformat": 4,
 "nbformat_minor": 2
}
